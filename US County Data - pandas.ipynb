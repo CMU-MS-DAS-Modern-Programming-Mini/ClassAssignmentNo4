{
 "cells": [
  {
   "cell_type": "code",
   "execution_count": 1,
   "id": "67433e45",
   "metadata": {},
   "outputs": [],
   "source": [
    "import pandas"
   ]
  },
  {
   "cell_type": "markdown",
   "id": "3c92eb0f",
   "metadata": {},
   "source": [
    "#### Use Pandas read_csv to load the us-counties.csv file.\n",
    "\n",
    "The columns of the CSV file are:\n",
    "\n",
    "date   - The date as a string (don't forget to convert this to a `pd.datetime`)\n",
    "\n",
    "county - The name of the county\n",
    "\n",
    "state  - The name of the state\n",
    "\n",
    "fips   - The fips code of the county (the first two digits represent the state, the last three, the county)\n",
    "\n",
    "cases  - The cumulative number of cases at the date in the county\n",
    "\n",
    "deaths - The cumulative number of deaths in at the date in the county"
   ]
  },
  {
   "cell_type": "code",
   "execution_count": null,
   "id": "bc9efe78",
   "metadata": {},
   "outputs": [],
   "source": []
  },
  {
   "cell_type": "markdown",
   "id": "65e0fb32",
   "metadata": {},
   "source": [
    "#### Question 1: Produce a DataFrame that contains only the data for the top 10 Counties by total number of cases"
   ]
  },
  {
   "cell_type": "code",
   "execution_count": null,
   "id": "711b808c",
   "metadata": {},
   "outputs": [],
   "source": []
  },
  {
   "cell_type": "markdown",
   "id": "680f4139",
   "metadata": {},
   "source": [
    "####  Question 2: Produce a DataFrame that contains only the data for the top 5 states by total number of cases"
   ]
  },
  {
   "cell_type": "code",
   "execution_count": null,
   "id": "075cd3b8",
   "metadata": {},
   "outputs": [],
   "source": []
  },
  {
   "cell_type": "markdown",
   "id": "b30be082",
   "metadata": {},
   "source": [
    "#### Question 3: Calculate the incidence (the number of new cases per day... i.e. the difference between the cases on a day - the cases on a previous day) for the top 10 Counties."
   ]
  },
  {
   "cell_type": "code",
   "execution_count": null,
   "id": "2dba5a51",
   "metadata": {},
   "outputs": [],
   "source": []
  },
  {
   "cell_type": "markdown",
   "id": "261be674",
   "metadata": {},
   "source": [
    "#### Question 4: Calculate the peak incidence for the 10 counties (the day with the highest number of new cases)."
   ]
  },
  {
   "cell_type": "code",
   "execution_count": null,
   "id": "24a81941",
   "metadata": {},
   "outputs": [],
   "source": []
  },
  {
   "cell_type": "markdown",
   "id": "73592761",
   "metadata": {},
   "source": [
    "#### Question 5: Plot an incidence curve for the County with the highest peak."
   ]
  },
  {
   "cell_type": "code",
   "execution_count": null,
   "id": "9d13fc19",
   "metadata": {},
   "outputs": [],
   "source": []
  },
  {
   "cell_type": "markdown",
   "id": "77c50099",
   "metadata": {},
   "source": [
    "#### Question 6: Plot a vertical bar graph with County as the category and the peak incidence as the measure."
   ]
  },
  {
   "cell_type": "code",
   "execution_count": null,
   "id": "1aacf724",
   "metadata": {},
   "outputs": [],
   "source": []
  }
 ],
 "metadata": {
  "kernelspec": {
   "display_name": "Python 3 (ipykernel)",
   "language": "python",
   "name": "python3"
  },
  "language_info": {
   "codemirror_mode": {
    "name": "ipython",
    "version": 3
   },
   "file_extension": ".py",
   "mimetype": "text/x-python",
   "name": "python",
   "nbconvert_exporter": "python",
   "pygments_lexer": "ipython3",
   "version": "3.8.10"
  }
 },
 "nbformat": 4,
 "nbformat_minor": 5
}
