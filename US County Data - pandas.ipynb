{
 "cells": [
  {
   "cell_type": "code",
   "execution_count": 1,
   "id": "67433e45",
   "metadata": {},
   "outputs": [],
   "source": [
    "import pandas as pd\n",
    "import numpy as np\n",
    "import matplotlib\n",
    "from datetime import datetime, timedelta\n",
    "import warnings\n",
    "warnings.simplefilter(action='ignore', category=pd.errors.PerformanceWarning)"
   ]
  },
  {
   "cell_type": "markdown",
   "id": "3c92eb0f",
   "metadata": {},
   "source": [
    "#### Use Pandas read_csv to load the us-counties.csv file.\n",
    "\n",
    "The columns of the CSV file are:\n",
    "\n",
    "date   - The date as a string (don't forget to convert this to a `pd.datetime`)\n",
    "\n",
    "county - The name of the county\n",
    "\n",
    "state  - The name of the state\n",
    "\n",
    "fips   - The fips code of the county (the first two digits represent the state, the last three, the county)\n",
    "\n",
    "cases  - The cumulative number of cases at the date in the county\n",
    "\n",
    "deaths - The cumulative number of deaths in at the date in the county"
   ]
  },
  {
   "cell_type": "code",
   "execution_count": 2,
   "id": "bc9efe78",
   "metadata": {},
   "outputs": [],
   "source": [
    "df = pd.read_csv(\"us-counties.csv\")\n",
    "\n",
    "df['date'] = pd.to_datetime(df['date'])"
   ]
  },
  {
   "cell_type": "markdown",
   "id": "65e0fb32",
   "metadata": {},
   "source": [
    "#### Question 1: Produce a DataFrame that contains only the data for the top 10 Counties by total number of cases"
   ]
  },
  {
   "cell_type": "code",
   "execution_count": 3,
   "id": "711b808c",
   "metadata": {},
   "outputs": [
    {
     "data": {
      "text/html": [
       "<div>\n",
       "<style scoped>\n",
       "    .dataframe tbody tr th:only-of-type {\n",
       "        vertical-align: middle;\n",
       "    }\n",
       "\n",
       "    .dataframe tbody tr th {\n",
       "        vertical-align: top;\n",
       "    }\n",
       "\n",
       "    .dataframe thead th {\n",
       "        text-align: right;\n",
       "    }\n",
       "</style>\n",
       "<table border=\"1\" class=\"dataframe\">\n",
       "  <thead>\n",
       "    <tr style=\"text-align: right;\">\n",
       "      <th></th>\n",
       "      <th>county</th>\n",
       "      <th>date</th>\n",
       "      <th>state</th>\n",
       "      <th>fips</th>\n",
       "      <th>cases</th>\n",
       "      <th>deaths</th>\n",
       "    </tr>\n",
       "  </thead>\n",
       "  <tbody>\n",
       "    <tr>\n",
       "      <th>1032</th>\n",
       "      <td>Los Angeles</td>\n",
       "      <td>2021-10-03</td>\n",
       "      <td>California</td>\n",
       "      <td>6037.0</td>\n",
       "      <td>1463743</td>\n",
       "      <td>26153.0</td>\n",
       "    </tr>\n",
       "    <tr>\n",
       "      <th>1226</th>\n",
       "      <td>New York City</td>\n",
       "      <td>2021-10-03</td>\n",
       "      <td>New York</td>\n",
       "      <td>NaN</td>\n",
       "      <td>1085590</td>\n",
       "      <td>34284.0</td>\n",
       "    </tr>\n",
       "    <tr>\n",
       "      <th>1074</th>\n",
       "      <td>Maricopa</td>\n",
       "      <td>2021-10-03</td>\n",
       "      <td>Arizona</td>\n",
       "      <td>4013.0</td>\n",
       "      <td>700319</td>\n",
       "      <td>11558.0</td>\n",
       "    </tr>\n",
       "    <tr>\n",
       "      <th>1140</th>\n",
       "      <td>Miami-Dade</td>\n",
       "      <td>2021-10-03</td>\n",
       "      <td>Florida</td>\n",
       "      <td>12086.0</td>\n",
       "      <td>661638</td>\n",
       "      <td>8504.0</td>\n",
       "    </tr>\n",
       "    <tr>\n",
       "      <th>414</th>\n",
       "      <td>Cook</td>\n",
       "      <td>2021-10-03</td>\n",
       "      <td>Minnesota</td>\n",
       "      <td>27031.0</td>\n",
       "      <td>620602</td>\n",
       "      <td>11603.0</td>\n",
       "    </tr>\n",
       "    <tr>\n",
       "      <th>761</th>\n",
       "      <td>Harris</td>\n",
       "      <td>2021-10-03</td>\n",
       "      <td>Texas</td>\n",
       "      <td>48201.0</td>\n",
       "      <td>558618</td>\n",
       "      <td>8414.0</td>\n",
       "    </tr>\n",
       "    <tr>\n",
       "      <th>464</th>\n",
       "      <td>Dallas</td>\n",
       "      <td>2021-10-03</td>\n",
       "      <td>Texas</td>\n",
       "      <td>48113.0</td>\n",
       "      <td>389318</td>\n",
       "      <td>4931.0</td>\n",
       "    </tr>\n",
       "    <tr>\n",
       "      <th>1516</th>\n",
       "      <td>San Diego</td>\n",
       "      <td>2021-10-03</td>\n",
       "      <td>California</td>\n",
       "      <td>6073.0</td>\n",
       "      <td>373289</td>\n",
       "      <td>4078.0</td>\n",
       "    </tr>\n",
       "    <tr>\n",
       "      <th>1466</th>\n",
       "      <td>Riverside</td>\n",
       "      <td>2021-10-03</td>\n",
       "      <td>California</td>\n",
       "      <td>6065.0</td>\n",
       "      <td>363950</td>\n",
       "      <td>5004.0</td>\n",
       "    </tr>\n",
       "    <tr>\n",
       "      <th>1515</th>\n",
       "      <td>San Bernardino</td>\n",
       "      <td>2021-10-03</td>\n",
       "      <td>California</td>\n",
       "      <td>6071.0</td>\n",
       "      <td>351963</td>\n",
       "      <td>5545.0</td>\n",
       "    </tr>\n",
       "  </tbody>\n",
       "</table>\n",
       "</div>"
      ],
      "text/plain": [
       "              county       date       state     fips    cases   deaths\n",
       "1032     Los Angeles 2021-10-03  California   6037.0  1463743  26153.0\n",
       "1226   New York City 2021-10-03    New York      NaN  1085590  34284.0\n",
       "1074        Maricopa 2021-10-03     Arizona   4013.0   700319  11558.0\n",
       "1140      Miami-Dade 2021-10-03     Florida  12086.0   661638   8504.0\n",
       "414             Cook 2021-10-03   Minnesota  27031.0   620602  11603.0\n",
       "761           Harris 2021-10-03       Texas  48201.0   558618   8414.0\n",
       "464           Dallas 2021-10-03       Texas  48113.0   389318   4931.0\n",
       "1516       San Diego 2021-10-03  California   6073.0   373289   4078.0\n",
       "1466       Riverside 2021-10-03  California   6065.0   363950   5004.0\n",
       "1515  San Bernardino 2021-10-03  California   6071.0   351963   5545.0"
      ]
     },
     "execution_count": 3,
     "metadata": {},
     "output_type": "execute_result"
    }
   ],
   "source": [
    "df_total = df.groupby(['county'], as_index = False).max()\n",
    "topcounties = df_total.sort_values(by='cases', ascending=False).head(10)\n",
    "topcounties"
   ]
  },
  {
   "cell_type": "markdown",
   "id": "680f4139",
   "metadata": {},
   "source": [
    "####  Question 2: Produce a DataFrame that contains only the data for the top 5 states by total number of cases"
   ]
  },
  {
   "cell_type": "code",
   "execution_count": 4,
   "id": "075cd3b8",
   "metadata": {},
   "outputs": [
    {
     "data": {
      "text/html": [
       "<div>\n",
       "<style scoped>\n",
       "    .dataframe tbody tr th:only-of-type {\n",
       "        vertical-align: middle;\n",
       "    }\n",
       "\n",
       "    .dataframe tbody tr th {\n",
       "        vertical-align: top;\n",
       "    }\n",
       "\n",
       "    .dataframe thead th {\n",
       "        text-align: right;\n",
       "    }\n",
       "</style>\n",
       "<table border=\"1\" class=\"dataframe\">\n",
       "  <thead>\n",
       "    <tr style=\"text-align: right;\">\n",
       "      <th></th>\n",
       "      <th>date</th>\n",
       "      <th>county</th>\n",
       "      <th>fips</th>\n",
       "      <th>cases</th>\n",
       "      <th>deaths</th>\n",
       "    </tr>\n",
       "    <tr>\n",
       "      <th>state</th>\n",
       "      <th></th>\n",
       "      <th></th>\n",
       "      <th></th>\n",
       "      <th></th>\n",
       "      <th></th>\n",
       "    </tr>\n",
       "  </thead>\n",
       "  <tbody>\n",
       "    <tr>\n",
       "      <th>California</th>\n",
       "      <td>2021-10-03</td>\n",
       "      <td>Yuba</td>\n",
       "      <td>6115.0</td>\n",
       "      <td>1463743</td>\n",
       "      <td>26153.0</td>\n",
       "    </tr>\n",
       "    <tr>\n",
       "      <th>New York</th>\n",
       "      <td>2021-10-03</td>\n",
       "      <td>Yates</td>\n",
       "      <td>36123.0</td>\n",
       "      <td>1085590</td>\n",
       "      <td>34284.0</td>\n",
       "    </tr>\n",
       "    <tr>\n",
       "      <th>Arizona</th>\n",
       "      <td>2021-10-03</td>\n",
       "      <td>Yuma</td>\n",
       "      <td>4027.0</td>\n",
       "      <td>700319</td>\n",
       "      <td>11558.0</td>\n",
       "    </tr>\n",
       "    <tr>\n",
       "      <th>Florida</th>\n",
       "      <td>2021-10-03</td>\n",
       "      <td>Washington</td>\n",
       "      <td>12133.0</td>\n",
       "      <td>661638</td>\n",
       "      <td>11799.0</td>\n",
       "    </tr>\n",
       "    <tr>\n",
       "      <th>Illinois</th>\n",
       "      <td>2021-10-03</td>\n",
       "      <td>Woodford</td>\n",
       "      <td>17203.0</td>\n",
       "      <td>620602</td>\n",
       "      <td>11603.0</td>\n",
       "    </tr>\n",
       "  </tbody>\n",
       "</table>\n",
       "</div>"
      ],
      "text/plain": [
       "                 date      county     fips    cases   deaths\n",
       "state                                                       \n",
       "California 2021-10-03        Yuba   6115.0  1463743  26153.0\n",
       "New York   2021-10-03       Yates  36123.0  1085590  34284.0\n",
       "Arizona    2021-10-03        Yuma   4027.0   700319  11558.0\n",
       "Florida    2021-10-03  Washington  12133.0   661638  11799.0\n",
       "Illinois   2021-10-03    Woodford  17203.0   620602  11603.0"
      ]
     },
     "execution_count": 4,
     "metadata": {},
     "output_type": "execute_result"
    }
   ],
   "source": [
    "df_total2 = df.groupby(['state']).max()\n",
    "df_total2.sort_values(by='cases', ascending=False).head(5)"
   ]
  },
  {
   "cell_type": "markdown",
   "id": "b30be082",
   "metadata": {},
   "source": [
    "#### Question 3: Calculate the incidence (the number of new cases per day... i.e. the difference between the cases on a day - the cases on a previous day) for the top 10 Counties."
   ]
  },
  {
   "cell_type": "code",
   "execution_count": 5,
   "id": "401e2e5f",
   "metadata": {},
   "outputs": [],
   "source": [
    "df2 = df[(df['county'].isin(topcounties['county'])) & (df['state'].isin(topcounties['state']))]\n",
    "df2 = df2.drop(['fips', 'deaths'], axis=1)\n",
    "df2 = df2.set_index(['county','date'])"
   ]
  },
  {
   "cell_type": "code",
   "execution_count": 6,
   "id": "2dba5a51",
   "metadata": {},
   "outputs": [
    {
     "data": {
      "text/html": [
       "<div>\n",
       "<style scoped>\n",
       "    .dataframe tbody tr th:only-of-type {\n",
       "        vertical-align: middle;\n",
       "    }\n",
       "\n",
       "    .dataframe tbody tr th {\n",
       "        vertical-align: top;\n",
       "    }\n",
       "\n",
       "    .dataframe thead th {\n",
       "        text-align: right;\n",
       "    }\n",
       "</style>\n",
       "<table border=\"1\" class=\"dataframe\">\n",
       "  <thead>\n",
       "    <tr style=\"text-align: right;\">\n",
       "      <th></th>\n",
       "      <th></th>\n",
       "      <th>state</th>\n",
       "      <th>cases</th>\n",
       "      <th>incidence_ind</th>\n",
       "    </tr>\n",
       "    <tr>\n",
       "      <th>county</th>\n",
       "      <th>date</th>\n",
       "      <th></th>\n",
       "      <th></th>\n",
       "      <th></th>\n",
       "    </tr>\n",
       "  </thead>\n",
       "  <tbody>\n",
       "    <tr>\n",
       "      <th rowspan=\"2\" valign=\"top\">Los Angeles</th>\n",
       "      <th>2020-12-26</th>\n",
       "      <td>California</td>\n",
       "      <td>706712</td>\n",
       "      <td>29174</td>\n",
       "    </tr>\n",
       "    <tr>\n",
       "      <th>2020-12-16</th>\n",
       "      <td>California</td>\n",
       "      <td>566185</td>\n",
       "      <td>22236</td>\n",
       "    </tr>\n",
       "    <tr>\n",
       "      <th rowspan=\"2\" valign=\"top\">Miami-Dade</th>\n",
       "      <th>2021-08-13</th>\n",
       "      <td>Florida</td>\n",
       "      <td>583845</td>\n",
       "      <td>21655</td>\n",
       "    </tr>\n",
       "    <tr>\n",
       "      <th>2021-08-20</th>\n",
       "      <td>Florida</td>\n",
       "      <td>603878</td>\n",
       "      <td>20033</td>\n",
       "    </tr>\n",
       "    <tr>\n",
       "      <th>Los Angeles</th>\n",
       "      <th>2021-01-01</th>\n",
       "      <td>California</td>\n",
       "      <td>790895</td>\n",
       "      <td>19980</td>\n",
       "    </tr>\n",
       "    <tr>\n",
       "      <th>Miami-Dade</th>\n",
       "      <th>2021-08-06</th>\n",
       "      <td>Florida</td>\n",
       "      <td>562190</td>\n",
       "      <td>19709</td>\n",
       "    </tr>\n",
       "    <tr>\n",
       "      <th rowspan=\"4\" valign=\"top\">Los Angeles</th>\n",
       "      <th>2021-01-07</th>\n",
       "      <td>California</td>\n",
       "      <td>871749</td>\n",
       "      <td>19239</td>\n",
       "    </tr>\n",
       "    <tr>\n",
       "      <th>2021-01-08</th>\n",
       "      <td>California</td>\n",
       "      <td>889787</td>\n",
       "      <td>18038</td>\n",
       "    </tr>\n",
       "    <tr>\n",
       "      <th>2021-01-14</th>\n",
       "      <td>California</td>\n",
       "      <td>975693</td>\n",
       "      <td>16802</td>\n",
       "    </tr>\n",
       "    <tr>\n",
       "      <th>2021-01-09</th>\n",
       "      <td>California</td>\n",
       "      <td>906554</td>\n",
       "      <td>16767</td>\n",
       "    </tr>\n",
       "  </tbody>\n",
       "</table>\n",
       "</div>"
      ],
      "text/plain": [
       "                             state   cases  incidence_ind\n",
       "county      date                                         \n",
       "Los Angeles 2020-12-26  California  706712          29174\n",
       "            2020-12-16  California  566185          22236\n",
       "Miami-Dade  2021-08-13     Florida  583845          21655\n",
       "            2021-08-20     Florida  603878          20033\n",
       "Los Angeles 2021-01-01  California  790895          19980\n",
       "Miami-Dade  2021-08-06     Florida  562190          19709\n",
       "Los Angeles 2021-01-07  California  871749          19239\n",
       "            2021-01-08  California  889787          18038\n",
       "            2021-01-14  California  975693          16802\n",
       "            2021-01-09  California  906554          16767"
      ]
     },
     "execution_count": 6,
     "metadata": {},
     "output_type": "execute_result"
    }
   ],
   "source": [
    "def calc_incidence_index(row, df):\n",
    "    prev_index = (row.name[0], row.name[1] - timedelta(1))\n",
    "    if prev_index in df.index: \n",
    "        return row['cases'] - df.loc[prev_index]['cases']\n",
    "    else:\n",
    "        return 0\n",
    "    \n",
    "df2['incidence_ind'] = df2.apply(lambda x: calc_incidence_index(x, df2),axis=1)\n",
    "df2.sort_values('incidence_ind', ascending = False).head(10)"
   ]
  },
  {
   "cell_type": "markdown",
   "id": "261be674",
   "metadata": {},
   "source": [
    "#### Question 4: Calculate the peak incidence for the 10 counties (the day with the highest number of new cases)."
   ]
  },
  {
   "cell_type": "code",
   "execution_count": 7,
   "id": "24a81941",
   "metadata": {},
   "outputs": [
    {
     "data": {
      "text/plain": [
       "county\n",
       "Cook                  6\n",
       "Dallas             6162\n",
       "Harris            14129\n",
       "Los Angeles       29174\n",
       "Maricopa          11761\n",
       "Miami-Dade        21655\n",
       "New York City     16715\n",
       "Riverside          8341\n",
       "San Bernardino     8026\n",
       "San Diego         15453\n",
       "Name: incidence_ind, dtype: int64"
      ]
     },
     "execution_count": 7,
     "metadata": {},
     "output_type": "execute_result"
    }
   ],
   "source": [
    "df3 = df2.groupby(['county'])['incidence_ind'].max()\n",
    "df3"
   ]
  },
  {
   "cell_type": "markdown",
   "id": "73592761",
   "metadata": {},
   "source": [
    "#### Question 5: Plot an incidence curve for the County with the highest peak."
   ]
  },
  {
   "cell_type": "code",
   "execution_count": 8,
   "id": "9d13fc19",
   "metadata": {},
   "outputs": [
    {
     "data": {
      "text/plain": [
       "Text(0, 0.5, 'Incidences')"
      ]
     },
     "execution_count": 8,
     "metadata": {},
     "output_type": "execute_result"
    },
    {
     "data": {
      "image/png": "[encoded data removed]",
      "text/plain": [
       "<Figure size 432x288 with 1 Axes>"
      ]
     },
     "metadata": {
      "needs_background": "light"
     },
     "output_type": "display_data"
    }
   ],
   "source": [
    "ax1 = df2.loc['Los Angeles']['incidence_ind'].plot(title = \"Incidence curve for Los Angeles\")\n",
    "ax1.set_ylabel(\"Incidences\")"
   ]
  },
  {
   "cell_type": "markdown",
   "id": "77c50099",
   "metadata": {},
   "source": [
    "#### Question 6: Plot a vertical bar graph with County as the category and the peak incidence as the measure."
   ]
  },
  {
   "cell_type": "code",
   "execution_count": 9,
   "id": "1aacf724",
   "metadata": {},
   "outputs": [
    {
     "data": {
      "text/plain": [
       "Text(0, 0.5, 'Incidences')"
      ]
     },
     "execution_count": 9,
     "metadata": {},
     "output_type": "execute_result"
    },
    {
     "data": {
      "image/png": "[encoded data removed]",
      "text/plain": [
       "<Figure size 432x288 with 1 Axes>"
      ]
     },
     "metadata": {
      "needs_background": "light"
     },
     "output_type": "display_data"
    }
   ],
   "source": [
    "ax2 = df3.plot.bar(title = \"Peak incidences by County\")\n",
    "ax2.set_ylabel(\"Incidences\")"
   ]
  }
 ],
 "metadata": {
  "kernelspec": {
   "display_name": "Python 3 (ipykernel)",
   "language": "python",
   "name": "python3"
  },
  "language_info": {
   "codemirror_mode": {
    "name": "ipython",
    "version": 3
   },
   "file_extension": ".py",
   "mimetype": "text/x-python",
   "name": "python",
   "nbconvert_exporter": "python",
   "pygments_lexer": "ipython3",
   "version": "3.8.5"
  }
 },
 "nbformat": 4,
 "nbformat_minor": 5
}
