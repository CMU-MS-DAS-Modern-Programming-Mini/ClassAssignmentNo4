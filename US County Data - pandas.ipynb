{
 "cells": [
  {
   "cell_type": "code",
   "execution_count": 1,
   "id": "67433e45",
   "metadata": {},
   "outputs": [],
   "source": [
    "import pandas as pd\n",
    "import numpy as np\n",
    "import matplotlib\n",
    "from datetime import datetime, timedelta\n",
    "import warnings\n",
    "warnings.simplefilter(action='ignore', category=pd.errors.PerformanceWarning)"
   ]
  },
  {
   "cell_type": "markdown",
   "id": "3c92eb0f",
   "metadata": {},
   "source": [
    "#### Use Pandas read_csv to load the us-counties.csv file.\n",
    "\n",
    "The columns of the CSV file are:\n",
    "\n",
    "date   - The date as a string (don't forget to convert this to a `pd.datetime`)\n",
    "\n",
    "county - The name of the county\n",
    "\n",
    "state  - The name of the state\n",
    "\n",
    "fips   - The fips code of the county (the first two digits represent the state, the last three, the county)\n",
    "\n",
    "cases  - The cumulative number of cases at the date in the county\n",
    "\n",
    "deaths - The cumulative number of deaths in at the date in the county"
   ]
  },
  {
   "cell_type": "code",
   "execution_count": 2,
   "id": "bc9efe78",
   "metadata": {},
   "outputs": [],
   "source": [
    "df = pd.read_csv(\"us-counties.csv\")\n",
    "\n",
    "df['date'] = pd.to_datetime(df['date'])"
   ]
  },
  {
   "cell_type": "markdown",
   "id": "65e0fb32",
   "metadata": {},
   "source": [
    "#### Question 1: Produce a DataFrame that contains only the data for the top 10 Counties by total number of cases"
   ]
  },
  {
   "cell_type": "code",
   "execution_count": 3,
   "id": "711b808c",
   "metadata": {},
   "outputs": [
    {
     "name": "stdout",
     "output_type": "stream",
     "text": [
      "              county       date       state     fips    cases   deaths\n",
      "1032     Los Angeles 2021-10-03  California   6037.0  1463743  26153.0\n",
      "1226   New York City 2021-10-03    New York      NaN  1085590  34284.0\n",
      "1074        Maricopa 2021-10-03     Arizona   4013.0   700319  11558.0\n",
      "1140      Miami-Dade 2021-10-03     Florida  12086.0   661638   8504.0\n",
      "414             Cook 2021-10-03   Minnesota  27031.0   620602  11603.0\n",
      "761           Harris 2021-10-03       Texas  48201.0   558618   8414.0\n",
      "464           Dallas 2021-10-03       Texas  48113.0   389318   4931.0\n",
      "1516       San Diego 2021-10-03  California   6073.0   373289   4078.0\n",
      "1466       Riverside 2021-10-03  California   6065.0   363950   5004.0\n",
      "1515  San Bernardino 2021-10-03  California   6071.0   351963   5545.0\n"
     ]
    }
   ],
   "source": [
    "df_total = df.groupby(['county'], as_index = False).max()\n",
    "topcounties = df_total.sort_values(by='cases', ascending=False).head(10)\n",
    "print(topcounties)"
   ]
  },
  {
   "cell_type": "markdown",
   "id": "680f4139",
   "metadata": {},
   "source": [
    "####  Question 2: Produce a DataFrame that contains only the data for the top 5 states by total number of cases"
   ]
  },
  {
   "cell_type": "code",
   "execution_count": 4,
   "id": "075cd3b8",
   "metadata": {},
   "outputs": [
    {
     "data": {
      "text/html": [
       "<div>\n",
       "<style scoped>\n",
       "    .dataframe tbody tr th:only-of-type {\n",
       "        vertical-align: middle;\n",
       "    }\n",
       "\n",
       "    .dataframe tbody tr th {\n",
       "        vertical-align: top;\n",
       "    }\n",
       "\n",
       "    .dataframe thead th {\n",
       "        text-align: right;\n",
       "    }\n",
       "</style>\n",
       "<table border=\"1\" class=\"dataframe\">\n",
       "  <thead>\n",
       "    <tr style=\"text-align: right;\">\n",
       "      <th></th>\n",
       "      <th>date</th>\n",
       "      <th>county</th>\n",
       "      <th>fips</th>\n",
       "      <th>cases</th>\n",
       "      <th>deaths</th>\n",
       "    </tr>\n",
       "    <tr>\n",
       "      <th>state</th>\n",
       "      <th></th>\n",
       "      <th></th>\n",
       "      <th></th>\n",
       "      <th></th>\n",
       "      <th></th>\n",
       "    </tr>\n",
       "  </thead>\n",
       "  <tbody>\n",
       "    <tr>\n",
       "      <th>California</th>\n",
       "      <td>2021-10-03</td>\n",
       "      <td>Yuba</td>\n",
       "      <td>6115.0</td>\n",
       "      <td>1463743</td>\n",
       "      <td>26153.0</td>\n",
       "    </tr>\n",
       "    <tr>\n",
       "      <th>New York</th>\n",
       "      <td>2021-10-03</td>\n",
       "      <td>Yates</td>\n",
       "      <td>36123.0</td>\n",
       "      <td>1085590</td>\n",
       "      <td>34284.0</td>\n",
       "    </tr>\n",
       "    <tr>\n",
       "      <th>Arizona</th>\n",
       "      <td>2021-10-03</td>\n",
       "      <td>Yuma</td>\n",
       "      <td>4027.0</td>\n",
       "      <td>700319</td>\n",
       "      <td>11558.0</td>\n",
       "    </tr>\n",
       "    <tr>\n",
       "      <th>Florida</th>\n",
       "      <td>2021-10-03</td>\n",
       "      <td>Washington</td>\n",
       "      <td>12133.0</td>\n",
       "      <td>661638</td>\n",
       "      <td>11799.0</td>\n",
       "    </tr>\n",
       "    <tr>\n",
       "      <th>Illinois</th>\n",
       "      <td>2021-10-03</td>\n",
       "      <td>Woodford</td>\n",
       "      <td>17203.0</td>\n",
       "      <td>620602</td>\n",
       "      <td>11603.0</td>\n",
       "    </tr>\n",
       "  </tbody>\n",
       "</table>\n",
       "</div>"
      ],
      "text/plain": [
       "                 date      county     fips    cases   deaths\n",
       "state                                                       \n",
       "California 2021-10-03        Yuba   6115.0  1463743  26153.0\n",
       "New York   2021-10-03       Yates  36123.0  1085590  34284.0\n",
       "Arizona    2021-10-03        Yuma   4027.0   700319  11558.0\n",
       "Florida    2021-10-03  Washington  12133.0   661638  11799.0\n",
       "Illinois   2021-10-03    Woodford  17203.0   620602  11603.0"
      ]
     },
     "execution_count": 4,
     "metadata": {},
     "output_type": "execute_result"
    }
   ],
   "source": [
    "df_total2 = df.groupby(['state']).max()\n",
    "df_total2.sort_values(by='cases', ascending=False).head(5)"
   ]
  },
  {
   "cell_type": "markdown",
   "id": "b30be082",
   "metadata": {},
   "source": [
    "#### Question 3: Calculate the incidence (the number of new cases per day... i.e. the difference between the cases on a day - the cases on a previous day) for the top 10 Counties."
   ]
  },
  {
   "cell_type": "code",
   "execution_count": 5,
   "id": "401e2e5f",
   "metadata": {},
   "outputs": [],
   "source": [
    "df2 = df[(df['county'].isin(topcounties['county'])) & (df['state'].isin(topcounties['state']))]\n",
    "df2 = df2.drop(['fips', 'state', 'deaths'], axis=1)\n",
    "df2 = df2.set_index(['county','date'])"
   ]
  },
  {
   "cell_type": "code",
   "execution_count": 6,
   "id": "2dba5a51",
   "metadata": {},
   "outputs": [
    {
     "data": {
      "text/html": [
       "<div>\n",
       "<style scoped>\n",
       "    .dataframe tbody tr th:only-of-type {\n",
       "        vertical-align: middle;\n",
       "    }\n",
       "\n",
       "    .dataframe tbody tr th {\n",
       "        vertical-align: top;\n",
       "    }\n",
       "\n",
       "    .dataframe thead th {\n",
       "        text-align: right;\n",
       "    }\n",
       "</style>\n",
       "<table border=\"1\" class=\"dataframe\">\n",
       "  <thead>\n",
       "    <tr style=\"text-align: right;\">\n",
       "      <th></th>\n",
       "      <th></th>\n",
       "      <th>cases</th>\n",
       "      <th>incidence_ind</th>\n",
       "    </tr>\n",
       "    <tr>\n",
       "      <th>county</th>\n",
       "      <th>date</th>\n",
       "      <th></th>\n",
       "      <th></th>\n",
       "    </tr>\n",
       "  </thead>\n",
       "  <tbody>\n",
       "    <tr>\n",
       "      <th>Maricopa</th>\n",
       "      <th>2020-01-26</th>\n",
       "      <td>1</td>\n",
       "      <td>0</td>\n",
       "    </tr>\n",
       "    <tr>\n",
       "      <th>Los Angeles</th>\n",
       "      <th>2020-01-26</th>\n",
       "      <td>1</td>\n",
       "      <td>0</td>\n",
       "    </tr>\n",
       "    <tr>\n",
       "      <th>Maricopa</th>\n",
       "      <th>2020-01-27</th>\n",
       "      <td>1</td>\n",
       "      <td>1</td>\n",
       "    </tr>\n",
       "    <tr>\n",
       "      <th>Los Angeles</th>\n",
       "      <th>2020-01-27</th>\n",
       "      <td>1</td>\n",
       "      <td>1</td>\n",
       "    </tr>\n",
       "    <tr>\n",
       "      <th>Maricopa</th>\n",
       "      <th>2020-01-28</th>\n",
       "      <td>1</td>\n",
       "      <td>1</td>\n",
       "    </tr>\n",
       "    <tr>\n",
       "      <th>Los Angeles</th>\n",
       "      <th>2020-01-28</th>\n",
       "      <td>1</td>\n",
       "      <td>1</td>\n",
       "    </tr>\n",
       "    <tr>\n",
       "      <th>Maricopa</th>\n",
       "      <th>2020-01-29</th>\n",
       "      <td>1</td>\n",
       "      <td>1</td>\n",
       "    </tr>\n",
       "    <tr>\n",
       "      <th>Los Angeles</th>\n",
       "      <th>2020-01-29</th>\n",
       "      <td>1</td>\n",
       "      <td>1</td>\n",
       "    </tr>\n",
       "    <tr>\n",
       "      <th>Maricopa</th>\n",
       "      <th>2020-01-30</th>\n",
       "      <td>1</td>\n",
       "      <td>1</td>\n",
       "    </tr>\n",
       "    <tr>\n",
       "      <th>Los Angeles</th>\n",
       "      <th>2020-01-30</th>\n",
       "      <td>1</td>\n",
       "      <td>1</td>\n",
       "    </tr>\n",
       "  </tbody>\n",
       "</table>\n",
       "</div>"
      ],
      "text/plain": [
       "                        cases  incidence_ind\n",
       "county      date                            \n",
       "Maricopa    2020-01-26      1              0\n",
       "Los Angeles 2020-01-26      1              0\n",
       "Maricopa    2020-01-27      1              1\n",
       "Los Angeles 2020-01-27      1              1\n",
       "Maricopa    2020-01-28      1              1\n",
       "Los Angeles 2020-01-28      1              1\n",
       "Maricopa    2020-01-29      1              1\n",
       "Los Angeles 2020-01-29      1              1\n",
       "Maricopa    2020-01-30      1              1\n",
       "Los Angeles 2020-01-30      1              1"
      ]
     },
     "execution_count": 6,
     "metadata": {},
     "output_type": "execute_result"
    }
   ],
   "source": [
    "def calc_incidence_index(row, df):\n",
    "    prev_index = (row.name[0], row.name[1] - timedelta(1))\n",
    "    if prev_index in df.index: \n",
    "        return df.loc[prev_index]['cases']# row['cases'] - df.loc[prev_index]['cases']\n",
    "    else:\n",
    "        return 0\n",
    "    \n",
    "df2['incidence_ind'] = df2.apply(lambda x: calc_incidence_index(x, df2),axis=1)\n",
    "df2.head(10)"
   ]
  },
  {
   "cell_type": "markdown",
   "id": "261be674",
   "metadata": {},
   "source": [
    "#### Question 4: Calculate the peak incidence for the 10 counties (the day with the highest number of new cases)."
   ]
  },
  {
   "cell_type": "code",
   "execution_count": 7,
   "id": "24a81941",
   "metadata": {},
   "outputs": [
    {
     "name": "stdout",
     "output_type": "stream",
     "text": [
      "county\n",
      "Cook                  220\n",
      "Dallas             389318\n",
      "Harris             558282\n",
      "Los Angeles       1462717\n",
      "Maricopa           698680\n",
      "Miami-Dade         661638\n",
      "New York City     1085590\n",
      "Riverside          363950\n",
      "San Bernardino     351963\n",
      "San Diego          373289\n",
      "Name: incidence_ind, dtype: int64\n"
     ]
    }
   ],
   "source": [
    "df3 = df2.groupby(['county'])['incidence_ind'].max()\n",
    "print(df3)"
   ]
  },
  {
   "cell_type": "markdown",
   "id": "73592761",
   "metadata": {},
   "source": [
    "#### Question 5: Plot an incidence curve for the County with the highest peak."
   ]
  },
  {
   "cell_type": "code",
   "execution_count": 8,
   "id": "9d13fc19",
   "metadata": {},
   "outputs": [
    {
     "data": {
      "text/plain": [
       "<AxesSubplot:xlabel='date'>"
      ]
     },
     "execution_count": 8,
     "metadata": {},
     "output_type": "execute_result"
    },
    {
     "data": {
      "image/png": "[encoded data removed]",
      "text/plain": [
       "<Figure size 432x288 with 1 Axes>"
      ]
     },
     "metadata": {
      "needs_background": "light"
     },
     "output_type": "display_data"
    }
   ],
   "source": [
    "df2.loc['Los Angeles']['incidence_ind'].plot()"
   ]
  },
  {
   "cell_type": "markdown",
   "id": "77c50099",
   "metadata": {},
   "source": [
    "#### Question 6: Plot a vertical bar graph with County as the category and the peak incidence as the measure."
   ]
  },
  {
   "cell_type": "code",
   "execution_count": 9,
   "id": "1aacf724",
   "metadata": {},
   "outputs": [
    {
     "data": {
      "text/plain": [
       "<AxesSubplot:xlabel='county'>"
      ]
     },
     "execution_count": 9,
     "metadata": {},
     "output_type": "execute_result"
    },
    {
     "data": {
      "image/png": "[encoded data removed]",
      "text/plain": [
       "<Figure size 432x288 with 1 Axes>"
      ]
     },
     "metadata": {
      "needs_background": "light"
     },
     "output_type": "display_data"
    }
   ],
   "source": [
    "df3.plot.bar()"
   ]
  }
 ],
 "metadata": {
  "kernelspec": {
   "display_name": "Python 3 (ipykernel)",
   "language": "python",
   "name": "python3"
  },
  "language_info": {
   "codemirror_mode": {
    "name": "ipython",
    "version": 3
   },
   "file_extension": ".py",
   "mimetype": "text/x-python",
   "name": "python",
   "nbconvert_exporter": "python",
   "pygments_lexer": "ipython3",
   "version": "3.8.5"
  }
 },
 "nbformat": 4,
 "nbformat_minor": 5
}
