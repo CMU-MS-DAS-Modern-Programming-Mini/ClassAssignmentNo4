{
 "cells": [
  {
   "cell_type": "code",
   "execution_count": 11,
   "id": "67433e45",
   "metadata": {},
   "outputs": [],
   "source": [
    "import pandas as pd\n",
    "import numpy as np\n",
    "import matplotlib.pyplot as plt\n",
    "from datetime import datetime"
   ]
  },
  {
   "cell_type": "markdown",
   "id": "3c92eb0f",
   "metadata": {},
   "source": [
    "#### Use Pandas read_csv to load the us-counties.csv file.\n",
    "\n",
    "The columns of the CSV file are:\n",
    "\n",
    "date   - The date as a string (don't forget to convert this to a `pd.datetime`)\n",
    "\n",
    "county - The name of the county\n",
    "\n",
    "state  - The name of the state\n",
    "\n",
    "fips   - The fips code of the county (the first two digits represent the state, the last three, the county)\n",
    "\n",
    "cases  - The cumulative number of cases at the date in the county\n",
    "\n",
    "deaths - The cumulative number of deaths in at the date in the county"
   ]
  },
  {
   "cell_type": "code",
   "execution_count": 12,
   "id": "bc9efe78",
   "metadata": {},
   "outputs": [
    {
     "data": {
      "text/html": [
       "<div>\n",
       "<style scoped>\n",
       "    .dataframe tbody tr th:only-of-type {\n",
       "        vertical-align: middle;\n",
       "    }\n",
       "\n",
       "    .dataframe tbody tr th {\n",
       "        vertical-align: top;\n",
       "    }\n",
       "\n",
       "    .dataframe thead th {\n",
       "        text-align: right;\n",
       "    }\n",
       "</style>\n",
       "<table border=\"1\" class=\"dataframe\">\n",
       "  <thead>\n",
       "    <tr style=\"text-align: right;\">\n",
       "      <th></th>\n",
       "      <th>date</th>\n",
       "      <th>county</th>\n",
       "      <th>state</th>\n",
       "      <th>fips</th>\n",
       "      <th>cases</th>\n",
       "      <th>deaths</th>\n",
       "    </tr>\n",
       "  </thead>\n",
       "  <tbody>\n",
       "    <tr>\n",
       "      <th>0</th>\n",
       "      <td>2020-01-21</td>\n",
       "      <td>Snohomish</td>\n",
       "      <td>Washington</td>\n",
       "      <td>53061.0</td>\n",
       "      <td>1</td>\n",
       "      <td>0.0</td>\n",
       "    </tr>\n",
       "    <tr>\n",
       "      <th>1</th>\n",
       "      <td>2020-01-22</td>\n",
       "      <td>Snohomish</td>\n",
       "      <td>Washington</td>\n",
       "      <td>53061.0</td>\n",
       "      <td>1</td>\n",
       "      <td>0.0</td>\n",
       "    </tr>\n",
       "    <tr>\n",
       "      <th>2</th>\n",
       "      <td>2020-01-23</td>\n",
       "      <td>Snohomish</td>\n",
       "      <td>Washington</td>\n",
       "      <td>53061.0</td>\n",
       "      <td>1</td>\n",
       "      <td>0.0</td>\n",
       "    </tr>\n",
       "    <tr>\n",
       "      <th>3</th>\n",
       "      <td>2020-01-24</td>\n",
       "      <td>Cook</td>\n",
       "      <td>Illinois</td>\n",
       "      <td>17031.0</td>\n",
       "      <td>1</td>\n",
       "      <td>0.0</td>\n",
       "    </tr>\n",
       "    <tr>\n",
       "      <th>4</th>\n",
       "      <td>2020-01-24</td>\n",
       "      <td>Snohomish</td>\n",
       "      <td>Washington</td>\n",
       "      <td>53061.0</td>\n",
       "      <td>1</td>\n",
       "      <td>0.0</td>\n",
       "    </tr>\n",
       "    <tr>\n",
       "      <th>...</th>\n",
       "      <td>...</td>\n",
       "      <td>...</td>\n",
       "      <td>...</td>\n",
       "      <td>...</td>\n",
       "      <td>...</td>\n",
       "      <td>...</td>\n",
       "    </tr>\n",
       "    <tr>\n",
       "      <th>1780869</th>\n",
       "      <td>2021-10-03</td>\n",
       "      <td>Sweetwater</td>\n",
       "      <td>Wyoming</td>\n",
       "      <td>56037.0</td>\n",
       "      <td>6959</td>\n",
       "      <td>65.0</td>\n",
       "    </tr>\n",
       "    <tr>\n",
       "      <th>1780870</th>\n",
       "      <td>2021-10-03</td>\n",
       "      <td>Teton</td>\n",
       "      <td>Wyoming</td>\n",
       "      <td>56039.0</td>\n",
       "      <td>4943</td>\n",
       "      <td>13.0</td>\n",
       "    </tr>\n",
       "    <tr>\n",
       "      <th>1780871</th>\n",
       "      <td>2021-10-03</td>\n",
       "      <td>Uinta</td>\n",
       "      <td>Wyoming</td>\n",
       "      <td>56041.0</td>\n",
       "      <td>3550</td>\n",
       "      <td>25.0</td>\n",
       "    </tr>\n",
       "    <tr>\n",
       "      <th>1780872</th>\n",
       "      <td>2021-10-03</td>\n",
       "      <td>Washakie</td>\n",
       "      <td>Wyoming</td>\n",
       "      <td>56043.0</td>\n",
       "      <td>1397</td>\n",
       "      <td>27.0</td>\n",
       "    </tr>\n",
       "    <tr>\n",
       "      <th>1780873</th>\n",
       "      <td>2021-10-03</td>\n",
       "      <td>Weston</td>\n",
       "      <td>Wyoming</td>\n",
       "      <td>56045.0</td>\n",
       "      <td>910</td>\n",
       "      <td>8.0</td>\n",
       "    </tr>\n",
       "  </tbody>\n",
       "</table>\n",
       "<p>1780874 rows × 6 columns</p>\n",
       "</div>"
      ],
      "text/plain": [
       "              date      county       state     fips  cases  deaths\n",
       "0       2020-01-21   Snohomish  Washington  53061.0      1     0.0\n",
       "1       2020-01-22   Snohomish  Washington  53061.0      1     0.0\n",
       "2       2020-01-23   Snohomish  Washington  53061.0      1     0.0\n",
       "3       2020-01-24        Cook    Illinois  17031.0      1     0.0\n",
       "4       2020-01-24   Snohomish  Washington  53061.0      1     0.0\n",
       "...            ...         ...         ...      ...    ...     ...\n",
       "1780869 2021-10-03  Sweetwater     Wyoming  56037.0   6959    65.0\n",
       "1780870 2021-10-03       Teton     Wyoming  56039.0   4943    13.0\n",
       "1780871 2021-10-03       Uinta     Wyoming  56041.0   3550    25.0\n",
       "1780872 2021-10-03    Washakie     Wyoming  56043.0   1397    27.0\n",
       "1780873 2021-10-03      Weston     Wyoming  56045.0    910     8.0\n",
       "\n",
       "[1780874 rows x 6 columns]"
      ]
     },
     "execution_count": 12,
     "metadata": {},
     "output_type": "execute_result"
    }
   ],
   "source": [
    "dataframe = pd.read_csv('us-counties.csv')\n",
    "dataframe['date'] = pd.to_datetime(dataframe['date'])\n",
    "dataframe"
   ]
  },
  {
   "cell_type": "markdown",
   "id": "65e0fb32",
   "metadata": {},
   "source": [
    "#### Question 1: Produce a DataFrame that contains only the data for the top 10 Counties by total number of cases"
   ]
  },
  {
   "cell_type": "code",
   "execution_count": 13,
   "id": "711b808c",
   "metadata": {},
   "outputs": [
    {
     "data": {
      "text/plain": [
       "0       Los Angeles\n",
       "1     New York City\n",
       "2          Maricopa\n",
       "3        Miami-Dade\n",
       "4              Cook\n",
       "5            Harris\n",
       "6            Dallas\n",
       "7         San Diego\n",
       "8         Riverside\n",
       "9    San Bernardino\n",
       "Name: county, dtype: object"
      ]
     },
     "execution_count": 13,
     "metadata": {},
     "output_type": "execute_result"
    }
   ],
   "source": [
    "county_df_top = dataframe[['date','county','cases']].groupby('county').max().nlargest(10,'cases')\n",
    "\n",
    "county_df_top = county_df_top.reset_index()\n",
    "county_df_top['county']\n",
    "\n"
   ]
  },
  {
   "cell_type": "markdown",
   "id": "680f4139",
   "metadata": {},
   "source": [
    "####  Question 2: Produce a DataFrame that contains only the data for the top 5 states by total number of cases"
   ]
  },
  {
   "cell_type": "code",
   "execution_count": 14,
   "id": "075cd3b8",
   "metadata": {},
   "outputs": [],
   "source": [
    "state_df_top = dataframe[['date','state','cases']].groupby('state').max().nlargest(10,'cases')\n",
    "state_df_top\n",
    "state_df_top = state_df_top.reset_index('state')"
   ]
  },
  {
   "cell_type": "code",
   "execution_count": 15,
   "id": "616b1dbf",
   "metadata": {},
   "outputs": [],
   "source": [
    "# This chunck is for testing"
   ]
  },
  {
   "cell_type": "markdown",
   "id": "b30be082",
   "metadata": {},
   "source": [
    "#### Question 3: Calculate the incidence (the number of new cases per day... i.e. the difference between the cases on a day - the cases on a previous day) for the top 10 Counties."
   ]
  },
  {
   "cell_type": "code",
   "execution_count": 24,
   "id": "2dba5a51",
   "metadata": {},
   "outputs": [
    {
     "name": "stdout",
     "output_type": "stream",
     "text": [
      "               Date  Los Angeles\n",
      "date                            \n",
      "2020-01-26        1          NaN\n",
      "2020-01-27        1          0.0\n",
      "2020-01-28        1          0.0\n",
      "2020-01-29        1          0.0\n",
      "2020-01-30        1          0.0\n",
      "...             ...          ...\n",
      "2021-09-29  1458381       1397.0\n",
      "2021-09-30  1459891       1510.0\n",
      "2021-10-01  1461354       1463.0\n",
      "2021-10-02  1462717       1363.0\n",
      "2021-10-03  1463743       1026.0\n",
      "\n",
      "[617 rows x 2 columns]\n",
      "               Date  New York City\n",
      "date                              \n",
      "2020-03-01        1            NaN\n",
      "2020-03-02        1            0.0\n",
      "2020-03-03        2            1.0\n",
      "2020-03-04        2            0.0\n",
      "2020-03-05        4            2.0\n",
      "...             ...            ...\n",
      "2021-09-29  1082099         1190.0\n",
      "2021-09-30  1083700         1601.0\n",
      "2021-10-01  1085590         1890.0\n",
      "2021-10-02  1085590            0.0\n",
      "2021-10-03  1085590            0.0\n",
      "\n",
      "[582 rows x 2 columns]\n",
      "              Date  Maricopa\n",
      "date                        \n",
      "2020-01-26       1       NaN\n",
      "2020-01-27       1       0.0\n",
      "2020-01-28       1       0.0\n",
      "2020-01-29       1       0.0\n",
      "2020-01-30       1       0.0\n",
      "...            ...       ...\n",
      "2021-09-29  692629    2178.0\n",
      "2021-09-30  694359    1730.0\n",
      "2021-10-01  696815    2456.0\n",
      "2021-10-02  698680    1865.0\n",
      "2021-10-03  700319    1639.0\n",
      "\n",
      "[617 rows x 2 columns]\n",
      "              Date  Miami-Dade\n",
      "date                          \n",
      "2020-03-11       1         NaN\n",
      "2020-03-12       2         1.0\n",
      "2020-03-13       8         6.0\n",
      "2020-03-14       8         0.0\n",
      "2020-03-15      13         5.0\n",
      "...            ...         ...\n",
      "2021-09-29  656813         0.0\n",
      "2021-09-30  656813         0.0\n",
      "2021-10-01  661638      4825.0\n",
      "2021-10-02  661638         0.0\n",
      "2021-10-03  661638         0.0\n",
      "\n",
      "[572 rows x 2 columns]\n",
      "              Date    Cook\n",
      "date                      \n",
      "2020-01-24       1     NaN\n",
      "2020-01-25       1     0.0\n",
      "2020-01-26       1     0.0\n",
      "2020-01-27       1     0.0\n",
      "2020-01-28       1     0.0\n",
      "...            ...     ...\n",
      "2021-09-29  618610   764.0\n",
      "2021-09-30  619576   966.0\n",
      "2021-10-01  620602  1026.0\n",
      "2021-10-02  620602     0.0\n",
      "2021-10-03  620602     0.0\n",
      "\n",
      "[619 rows x 2 columns]\n",
      "              Date  Harris\n",
      "date                      \n",
      "2020-03-05       4     NaN\n",
      "2020-03-06       5     1.0\n",
      "2020-03-07       5     0.0\n",
      "2020-03-08       6     1.0\n",
      "2020-03-09       6     0.0\n",
      "...            ...     ...\n",
      "2021-09-29  554336  2547.0\n",
      "2021-09-30  555663  1327.0\n",
      "2021-10-01  556159   496.0\n",
      "2021-10-02  558282  2123.0\n",
      "2021-10-03  558618   336.0\n",
      "\n",
      "[578 rows x 2 columns]\n",
      "              Date  Dallas\n",
      "date                      \n",
      "2020-03-10       2     NaN\n",
      "2020-03-11       3     1.0\n",
      "2020-03-12       8     5.0\n",
      "2020-03-13       9     1.0\n",
      "2020-03-14      11     2.0\n",
      "...            ...     ...\n",
      "2021-09-29  386543  2292.0\n",
      "2021-09-30  387470   927.0\n",
      "2021-10-01  388413   943.0\n",
      "2021-10-02  389318   905.0\n",
      "2021-10-03  389318     0.0\n",
      "\n",
      "[573 rows x 2 columns]\n",
      "              Date  San Diego\n",
      "date                         \n",
      "2020-02-10       1        NaN\n",
      "2020-02-11       1        0.0\n",
      "2020-02-12       1        0.0\n",
      "2020-02-13       1        0.0\n",
      "2020-02-14       1        0.0\n",
      "...            ...        ...\n",
      "2021-09-29  372208      618.0\n",
      "2021-09-30  372734      526.0\n",
      "2021-10-01  373289      555.0\n",
      "2021-10-02  373289        0.0\n",
      "2021-10-03  373289        0.0\n",
      "\n",
      "[602 rows x 2 columns]\n",
      "              Date  Riverside\n",
      "date                         \n",
      "2020-03-07       1        NaN\n",
      "2020-03-08       1        0.0\n",
      "2020-03-09       4        3.0\n",
      "2020-03-10       4        0.0\n",
      "2020-03-11       4        0.0\n",
      "...            ...        ...\n",
      "2021-09-29  362691      567.0\n",
      "2021-09-30  363281      590.0\n",
      "2021-10-01  363950      669.0\n",
      "2021-10-02  363950        0.0\n",
      "2021-10-03  363950        0.0\n",
      "\n",
      "[576 rows x 2 columns]\n",
      "              Date  San Bernardino\n",
      "date                              \n",
      "2020-03-15       1             NaN\n",
      "2020-03-16       2             1.0\n",
      "2020-03-17       3             1.0\n",
      "2020-03-18       5             2.0\n",
      "2020-03-19       5             0.0\n",
      "...            ...             ...\n",
      "2021-09-29  350976           390.0\n",
      "2021-09-30  351423           447.0\n",
      "2021-10-01  351963           540.0\n",
      "2021-10-02  351963             0.0\n",
      "2021-10-03  351963             0.0\n",
      "\n",
      "[568 rows x 2 columns]\n"
     ]
    }
   ],
   "source": [
    "\n",
    "counties = []\n",
    "for i in range (10):\n",
    "    counties.append(county_df_top['county'][i])\n",
    "    \n",
    "\n",
    "for county in counties:\n",
    "    county_data = dataframe[(dataframe['county'] == county)&(dataframe['state'].isin(state_df_top['state']))][['date','cases']].set_index('date')\n",
    "    county_data['incidence'] = county_data['cases'].rolling(2).apply(lambda x: x[1]-x[0],raw=False)\n",
    "#     county_data[['incidence']].plot(xlabel=county,ylabel='case number',kind='line')\n",
    "    county_data.columns = ['Date',county]\n",
    "    print(county_data)\n",
    "    \n",
    "\n"
   ]
  },
  {
   "cell_type": "markdown",
   "id": "261be674",
   "metadata": {},
   "source": [
    "#### Question 4: Calculate the peak incidence for the 10 counties (the day with the highest number of new cases)."
   ]
  },
  {
   "cell_type": "code",
   "execution_count": 20,
   "id": "24a81941",
   "metadata": {},
   "outputs": [
    {
     "name": "stdout",
     "output_type": "stream",
     "text": [
      "Peak incidence for Los Angeles is 29174.0\n",
      "Peak incidence for New York City is 16715.0\n",
      "Peak incidence for Maricopa is 11761.0\n",
      "Peak incidence for Miami-Dade is 21655.0\n",
      "Peak incidence for Cook is 6697.0\n",
      "Peak incidence for Harris is 14129.0\n",
      "Peak incidence for Dallas is 6162.0\n",
      "Peak incidence for San Diego is 15453.0\n",
      "Peak incidence for Riverside is 8341.0\n",
      "Peak incidence for San Bernardino is 8026.0\n"
     ]
    }
   ],
   "source": [
    "for county in counties:\n",
    "    county_data = dataframe[(dataframe['county'] == county)&(dataframe['state'].isin(state_df_top['state']))][['date','cases']].set_index('date')\n",
    "    county_data['incidence'] = county_data['cases'].rolling(2).apply(lambda x: x[1]-x[0],raw=False)\n",
    "    peak = county_data['incidence'].max()\n",
    "    print('Peak incidence for '+ county + ' ' +'is'+ ' ' +str(peak))"
   ]
  },
  {
   "cell_type": "markdown",
   "id": "73592761",
   "metadata": {},
   "source": [
    "#### Question 5: Plot an incidence curve for the County with the highest peak."
   ]
  },
  {
   "cell_type": "code",
   "execution_count": 21,
   "id": "9d13fc19",
   "metadata": {},
   "outputs": [
    {
     "data": {
      "text/plain": [
       "<AxesSubplot:xlabel='San Diego', ylabel='Incidence'>"
      ]
     },
     "execution_count": 21,
     "metadata": {},
     "output_type": "execute_result"
    },
    {
     "data": {
      "image/png": "[encoded data removed]",
      "text/plain": [
       "<Figure size 432x288 with 1 Axes>"
      ]
     },
     "metadata": {
      "needs_background": "light"
     },
     "output_type": "display_data"
    }
   ],
   "source": [
    "peak = {}\n",
    "\n",
    "for county in counties:\n",
    "    county_data = dataframe[(dataframe['county'] == county)&(dataframe['state'].isin(state_df_top['state']))][['date','cases']].set_index('date')\n",
    "    county_data['incidence'] = county_data['cases'].rolling(2).apply(lambda x: x[1]-x[0],raw=False)\n",
    "    peak[county]=county_data['incidence'].max()\n",
    "\n",
    "\n",
    "top_county = max(peak)\n",
    "\n",
    "top_inci = dataframe[dataframe['county'] == top_county][['date','cases']].set_index('date')\n",
    "top_inci['incidence'] = county_data['cases'].rolling(2).apply(lambda x: x[1]-x[0],raw=False)\n",
    "top_inci['incidence'].plot(xlabel=top_county,ylabel='Incidence',kind='line')"
   ]
  },
  {
   "cell_type": "markdown",
   "id": "77c50099",
   "metadata": {},
   "source": [
    "#### Question 6: Plot a vertical bar graph with County as the category and the peak incidence as the measure."
   ]
  },
  {
   "cell_type": "code",
   "execution_count": 22,
   "id": "1aacf724",
   "metadata": {},
   "outputs": [
    {
     "data": {
      "text/plain": [
       "<BarContainer object of 10 artists>"
      ]
     },
     "execution_count": 22,
     "metadata": {},
     "output_type": "execute_result"
    },
    {
     "data": {
      "image/png": "[encoded data removed]",
      "text/plain": [
       "<Figure size 1080x576 with 1 Axes>"
      ]
     },
     "metadata": {
      "needs_background": "light"
     },
     "output_type": "display_data"
    }
   ],
   "source": [
    "County = peak.keys()\n",
    "peak_incidence = peak.values()\n",
    "fig = plt.figure(figsize=(15,8))\n",
    "plt.bar(County,peak_incidence)"
   ]
  },
  {
   "cell_type": "code",
   "execution_count": null,
   "id": "61b10150",
   "metadata": {},
   "outputs": [],
   "source": []
  }
 ],
 "metadata": {
  "kernelspec": {
   "display_name": "Python 3 (ipykernel)",
   "language": "python",
   "name": "python3"
  },
  "language_info": {
   "codemirror_mode": {
    "name": "ipython",
    "version": 3
   },
   "file_extension": ".py",
   "mimetype": "text/x-python",
   "name": "python",
   "nbconvert_exporter": "python",
   "pygments_lexer": "ipython3",
   "version": "3.9.6"
  }
 },
 "nbformat": 4,
 "nbformat_minor": 5
}
